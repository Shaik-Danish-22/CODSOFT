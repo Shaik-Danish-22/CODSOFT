{
  "nbformat": 4,
  "nbformat_minor": 0,
  "metadata": {
    "colab": {
      "provenance": [],
      "authorship_tag": "ABX9TyMoxTMepsJbd1yz4HPy88mh",
      "include_colab_link": true
    },
    "kernelspec": {
      "name": "python3",
      "display_name": "Python 3"
    },
    "language_info": {
      "name": "python"
    }
  },
  "cells": [
    {
      "cell_type": "markdown",
      "metadata": {
        "id": "view-in-github",
        "colab_type": "text"
      },
      "source": [
        "<a href=\"https://colab.research.google.com/github/Shaik-Danish-22/CODSOFT/blob/main/Rule_based_chatbot.ipynb\" target=\"_parent\"><img src=\"https://colab.research.google.com/assets/colab-badge.svg\" alt=\"Open In Colab\"/></a>"
      ]
    },
    {
      "cell_type": "code",
      "source": [
        "import random\n",
        "import re\n",
        "import string\n",
        "import warnings\n",
        "import nltk\n",
        "from nltk.corpus import wordnet\n",
        "nltk.download('wordnet')\n",
        "nltk.download('punkt')\n",
        "sentences= []\n"
      ],
      "metadata": {
        "colab": {
          "base_uri": "https://localhost:8080/"
        },
        "id": "-8K-fY7YHQx4",
        "outputId": "31b2f5a7-2bd1-42bb-f0c3-f0a8a2bc218a"
      },
      "execution_count": 193,
      "outputs": [
        {
          "output_type": "stream",
          "name": "stderr",
          "text": [
            "[nltk_data] Downloading package wordnet to /root/nltk_data...\n",
            "[nltk_data]   Package wordnet is already up-to-date!\n",
            "[nltk_data] Downloading package punkt to /root/nltk_data...\n",
            "[nltk_data]   Package punkt is already up-to-date!\n"
          ]
        }
      ]
    },
    {
      "cell_type": "code",
      "source": [
        "#to filter warnings\n",
        "warnings.filterwarnings('ignore')\n"
      ],
      "metadata": {
        "id": "dpUwc8XzIz28"
      },
      "execution_count": 194,
      "outputs": []
    },
    {
      "cell_type": "code",
      "source": [
        "synonyms=[]\n",
        "for syn in wordnet.synsets('hello'):\n",
        "  for lem in syn.lemmas():\n",
        "   lem_name=re.sub(r'\\[[0-9]*\\]','',lem.name())\n",
        "   lem_name=re.sub(r'\\S+','',lem.name())\n",
        "  synonyms.append(lem_name)"
      ],
      "metadata": {
        "id": "JRxNj6JrLKUY"
      },
      "execution_count": 195,
      "outputs": []
    },
    {
      "cell_type": "code",
      "source": [
        "#Input for greetings\n",
        "greeting_inputs=['hey','hello','whats up','good morning','good evening','morning','evening','hi there','hello there','hi']\n",
        "greeting_responses=['Hello!How can I help you','Hey there ! what troubled you?','Hello!what do you want to know?',]"
      ],
      "metadata": {
        "id": "7h3-NZr1JDmU"
      },
      "execution_count": 196,
      "outputs": []
    },
    {
      "cell_type": "code",
      "source": [
        "#Concatenating\n",
        "greeting_inputs=greeting_inputs+synonyms\n"
      ],
      "metadata": {
        "id": "ilQEtBFIN69O"
      },
      "execution_count": 197,
      "outputs": []
    },
    {
      "cell_type": "code",
      "source": [
        "convo_inputs=['how are you','how are you doing','you good','what are your plans for today','yes']\n",
        "convo_replies=['Great','I am fine','fine','good','superb','super','awesome','ok lets begin','nothing much! ust thinking to help you out,what say?''Great!what about you?','Getting bored at home??','I AM FINE THANK YOU lets make a quick convo']"
      ],
      "metadata": {
        "id": "7724bPQOOJQ1"
      },
      "execution_count": 198,
      "outputs": []
    },
    {
      "cell_type": "code",
      "source": [
        "question_answers={'what are you':'HI im bot,RO-BOT:<3','who are you':'HI im bot,RO-BOT:<3','what can you do':'I can do things you cant imagine<,but im under control lol,i can do what ever you want'}"
      ],
      "metadata": {
        "id": "ESTLPJp4POxY"
      },
      "execution_count": 199,
      "outputs": []
    },
    {
      "cell_type": "code",
      "source": [
        "remove_punctuation = dict((ord(punc), None)for punc in string.punctuation)\n",
        "if 'random_choice' in globals():\n",
        "    print(\"Warning: The function 'random_choice' is overwritten by a variable.\")\n",
        "def remove_punctuation(str):\n",
        "  punctuations = r'''!()-[]{};:\\/,<>.?@#$%^&*'''\n",
        "  no_punct = ''\n",
        "  for char in str:\n",
        "        if char not in punctuations:\n",
        "            no_punct = no_punct + char\n",
        "  return no_punct\n"
      ],
      "metadata": {
        "id": "JNOD_yQwMCse"
      },
      "execution_count": 200,
      "outputs": []
    },
    {
      "cell_type": "code",
      "source": [
        "#method to generate response\n",
        "def generate_greeting_response(hello):\n",
        "    if punc_remove(hello.lower()) in greeting_inputs:\n",
        "        return random.choice(greeting_responses)"
      ],
      "metadata": {
        "id": "RU7iWJJHNbZ-"
      },
      "execution_count": 201,
      "outputs": []
    },
    {
      "cell_type": "code",
      "source": [
        "#method to response to convos\n",
        "def generate_convo_response(str):\n",
        "  if punc_remove(str.lower())in convo_inputs:\n",
        "    return random.choice(convo_responses)"
      ],
      "metadata": {
        "id": "QKKAVPMvN84W"
      },
      "execution_count": 202,
      "outputs": []
    },
    {
      "cell_type": "code",
      "source": [
        "#method to generate answers\n",
        "def generate_answers(str):\n",
        "  if punc_remove(str.lower())in  question_answers:\n",
        "    return question_answers[punc_remove(str.lower())]\n",
        "\n",
        "def generate_response(user):\n",
        "      JARVIS_response =''\n",
        "      sentences.append(user)\n",
        "      if user_input is not None:\n",
        "        user_input = punc_remove(user_input)\n",
        "\n",
        ""
      ],
      "metadata": {
        "id": "sFIv0Jb1Og7K"
      },
      "execution_count": 203,
      "outputs": []
    },
    {
      "cell_type": "code",
      "source": [
        "#CHATTING WITH THE CHAT BOT\n",
        "continue_chat=True\n",
        "print('HI! I am JARVIS , How can I be helpfull to you:?')\n",
        "while continue_chat:\n",
        "  user_input = input().lower()\n",
        "  user_input = punc_remove(user_input)\n",
        "  if user_input !='bye':\n",
        "    if user_input == 'thanks' or user_input=='thank you very much' or user_input=='thank you':\n",
        "      continue_chat=False\n",
        "      print('JARVIS :Not a problem!(And Welcome! :D)')\n",
        "    elif user_input in convo_replies:\n",
        "      print('That\\'s nice! How may I help you?')\n",
        "      continue\n",
        "    else:\n",
        "        if generate_greeting_response(user_input) is not None:\n",
        "         print('JARVIS :'+ generate_greeting_response(user_input))\n",
        "        elif generate_convo_response(user_input) is not None:\n",
        "          print('JARVIS :'+ generate_convo_response(user_input))\n",
        "\n",
        "        elif generate_answers(user_input) is not None:\n",
        "            print('JARVIS :'+ generate_answers(user_input))\n",
        "\n",
        "        else:\n",
        "              print('JARVIS :',end='')\n",
        "              print(generate_responses(user_input))\n",
        "              sentences.remove(user_input)\n",
        "  else:\n",
        "      continue_chat=False\n",
        "      print('JARVIS :BYE!!')"
      ],
      "metadata": {
        "colab": {
          "base_uri": "https://localhost:8080/"
        },
        "id": "AQ2PKHjFQk9c",
        "outputId": "c900332a-cf03-43bc-aa33-71e0b18091c6"
      },
      "execution_count": 204,
      "outputs": [
        {
          "output_type": "stream",
          "name": "stdout",
          "text": [
            "HI! I am JARVIS , How can I be helpfull to you:?\n",
            "hi\n",
            "JARVIS :Hey there ! what troubled you?\n",
            "how are you\n",
            "JARVIS :Great!what about you?\n",
            "fine\n",
            "That's nice! How may I help you?\n",
            "what are you\n",
            "JARVIS :HI im bot,RO-BOT:<3\n",
            "what can you do\n",
            "JARVIS :I can do things you cant imagine<,but im under control lol,i can do what ever you want\n",
            "thanks\n",
            "JARVIS :Not a problem!(And Welcome! :D)\n"
          ]
        }
      ]
    },
    {
      "cell_type": "code",
      "source": [
        "\n"
      ],
      "metadata": {
        "id": "pr4kwPQoRoEK"
      },
      "execution_count": null,
      "outputs": []
    }
  ]
}